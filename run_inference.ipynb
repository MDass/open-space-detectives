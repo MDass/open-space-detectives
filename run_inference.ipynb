{
 "cells": [
  {
   "cell_type": "code",
   "execution_count": 10,
   "metadata": {},
   "outputs": [],
   "source": [
    "# Necessary imports. If importing ultralytics does not work, uncomment the pip install line and re-run this cell\n",
    "\n",
    "# !pip install ultralytics\n",
    "from ultralytics import YOLO"
   ]
  },
  {
   "cell_type": "code",
   "execution_count": 63,
   "metadata": {},
   "outputs": [],
   "source": [
    "# MODIFY THIS CELL\n",
    "\n",
    "# Enter either an image URL or the directory to the image you would like to test\n",
    "\n",
    "image_path = \"test_images/testImage1.png\"\n",
    "\n",
    "# Enter the model path that you would like to use to test the image on:\n",
    "# Options are:\n",
    "    # __ for the YOLOv8 model trained on the open source dataset, 100 epochs\n",
    "    # __ for the YOLOv8 model trained on the hand-curated dataset, 100 epochs\n",
    "    # __ for the YOLOv8 model trained on the hand-curated dataset, 50 epochs\n",
    "model_path = \"model_paths/combined_100_epochs.pt\""
   ]
  },
  {
   "cell_type": "code",
   "execution_count": 64,
   "metadata": {},
   "outputs": [
    {
     "name": "stdout",
     "output_type": "stream",
     "text": [
      "\n",
      "image 1/1 /Users/megandass/Documents/quarter 2/open-space-detectives/test_images/testImage1.png: 480x640 3 PERSON_IN_CHAIRs, 5 EMPTY_CHAIRs, 73.2ms\n",
      "Speed: 2.5ms preprocess, 73.2ms inference, 10.0ms postprocess per image at shape (1, 3, 480, 640)\n"
     ]
    },
    {
     "ename": "",
     "evalue": "",
     "output_type": "error",
     "traceback": [
      "\u001b[1;31mThe Kernel crashed while executing code in the the current cell or a previous cell. Please review the code in the cell(s) to identify a possible cause of the failure. Click <a href='https://aka.ms/vscodeJupyterKernelCrash'>here</a> for more info. View Jupyter <a href='command:jupyter.viewOutput'>log</a> for further details."
     ]
    }
   ],
   "source": [
    "# Load model\n",
    "model = YOLO(model_path)\n",
    "\n",
    "results = model.predict(source=image_path)\n",
    "for result in results:\n",
    "    boxes = result.boxes  # Boxes object for bounding box outputs\n",
    "    masks = result.masks  # Masks object for segmentation masks outputs\n",
    "    keypoints = result.keypoints  # Keypoints object for pose outputs\n",
    "    probs = result.probs  # Probs object for classification outputs\n",
    "    result.show()  # Display to screen\n",
    "    result.save(filename='result.jpg')  # Save to disk"
   ]
  }
 ],
 "metadata": {
  "kernelspec": {
   "display_name": "Python 3",
   "language": "python",
   "name": "python3"
  },
  "language_info": {
   "codemirror_mode": {
    "name": "ipython",
    "version": 3
   },
   "file_extension": ".py",
   "mimetype": "text/x-python",
   "name": "python",
   "nbconvert_exporter": "python",
   "pygments_lexer": "ipython3",
   "version": "3.11.5"
  },
  "orig_nbformat": 4
 },
 "nbformat": 4,
 "nbformat_minor": 2
}
